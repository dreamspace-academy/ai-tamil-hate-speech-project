{
  "nbformat": 4,
  "nbformat_minor": 0,
  "metadata": {
    "colab": {
      "name": "Behavioral testing workflow.ipynb",
      "provenance": [],
      "collapsed_sections": []
    },
    "kernelspec": {
      "name": "python3",
      "display_name": "Python 3"
    },
    "language_info": {
      "name": "python"
    },
    "accelerator": "GPU",
    "gpuClass": "standard"
  },
  "cells": [
    {
      "cell_type": "markdown",
      "source": [
        "# Behavioral testing workflow"
      ],
      "metadata": {
        "id": "2i_sDNxi1mSr"
      }
    },
    {
      "cell_type": "markdown",
      "source": [
        "## Install necessary libraries for loading repo\n"
      ],
      "metadata": {
        "id": "LfnFw-1V1n6K"
      }
    },
    {
      "cell_type": "code",
      "source": [
        "%%capture\n",
        "!pip install dvc fastds transformers\n",
        "import os"
      ],
      "metadata": {
        "id": "DOAFcOOT5PSU"
      },
      "execution_count": null,
      "outputs": []
    },
    {
      "cell_type": "markdown",
      "source": [
        "## Set all credentials and download all necessary files/data for training"
      ],
      "metadata": {
        "id": "OTN0bclB10OD"
      }
    },
    {
      "cell_type": "markdown",
      "source": [
        "### Set up local repo and branch"
      ],
      "metadata": {
        "id": "U-KDPApE5PSU"
      }
    },
    {
      "cell_type": "code",
      "source": [
        "# Clone repo with personal token (Settings -> Tokens -> Default Access Token)\n",
        "!git clone https://{your_token}@dagshub.com/Omdena/NYU.git\n",
        "%cd NYU/tasks/task-5-testing"
      ],
      "metadata": {
        "id": "pjXVCBXN5PSU"
      },
      "execution_count": null,
      "outputs": []
    },
    {
      "cell_type": "markdown",
      "source": [
        "### Set up DVC and git"
      ],
      "metadata": {
        "id": "1JPBaDkM5PSV"
      }
    },
    {
      "cell_type": "code",
      "source": [
        "%%bash\n",
        "dvc remote add origin --local https://dagshub.com/Omdena/NYU.dvc\n",
        "dvc remote modify --local origin auth basic\n",
        "dvc remote modify --local origin user {your_username}\n",
        "dvc remote modify --local origin password {your_token}"
      ],
      "metadata": {
        "id": "d07KGfHx5PSV"
      },
      "execution_count": null,
      "outputs": []
    },
    {
      "cell_type": "code",
      "source": [
        "%%bash\n",
        "git config --global user.email \"{your_email}\"\n",
        "git config --global user.name \"{your_username}\""
      ],
      "metadata": {
        "id": "hr7EL7WH5PSW"
      },
      "execution_count": null,
      "outputs": []
    },
    {
      "cell_type": "markdown",
      "source": [
        "### Pull trained model and model arguments. Also pulls behavioral testing data."
      ],
      "metadata": {
        "id": "_ONsKd5C7iD6"
      }
    },
    {
      "cell_type": "code",
      "source": [
        "!dvc pull -r origin"
      ],
      "metadata": {
        "id": "KWZrkrpc7j0R"
      },
      "execution_count": null,
      "outputs": []
    },
    {
      "cell_type": "markdown",
      "source": [
        "## Create behavioral testing pipeline (*This should be run only if there's a change in the pipeline that we want to update in DagsHub*)"
      ],
      "metadata": {
        "id": "OHp7m5_a6FqB"
      }
    },
    {
      "cell_type": "code",
      "source": [
        "!dvc run -n behavioral_test \\\n",
        "-d ../task-4-language-transformer-models/workflow/model_artifacts/model_best.pt \\\n",
        "-d ../task-4-language-transformer-models/workflow/model_artifacts/args.pt \\\n",
        "-d 'test_data/Behavioral Testing - MFT-Script.csv' \\\n",
        "-d 'test_data/Behavioral Testing - MFT-Neutral.csv' \\\n",
        "-d 'test_data/Behavioral Testing - MFT-Adversarial.csv' \\\n",
        "-d 'test_data/Behavioral Testing - INV-Typos.csv' \\\n",
        "-d test.py \\\n",
        "-m results/test_results.json \\\n",
        "--force \\\n",
        "--no-run-cache \\\n",
        "python test.py"
      ],
      "metadata": {
        "id": "Cqszgm2gWhiM"
      },
      "execution_count": null,
      "outputs": []
    },
    {
      "cell_type": "code",
      "source": [
        "# Tells DagsHub to track data with dvc and upload it to repo\n",
        "!dvc add test_data"
      ],
      "metadata": {
        "id": "KNaiOp9odYv0"
      },
      "execution_count": null,
      "outputs": []
    },
    {
      "cell_type": "code",
      "source": [
        "!git add .gitignore results/.gitignore dvc.lock dvc.yaml test_data.dvc"
      ],
      "metadata": {
        "id": "MvR4nmcMaM-G"
      },
      "execution_count": null,
      "outputs": []
    },
    {
      "cell_type": "code",
      "source": [
        "!git status"
      ],
      "metadata": {
        "id": "9V6YRXopbDwj"
      },
      "execution_count": null,
      "outputs": []
    },
    {
      "cell_type": "code",
      "source": [
        "!git commit -m \"Add behavioral test pipeline\""
      ],
      "metadata": {
        "id": "FF2t3W5HaOGd"
      },
      "execution_count": null,
      "outputs": []
    },
    {
      "cell_type": "code",
      "source": [
        "!git push"
      ],
      "metadata": {
        "id": "-Tvv_dhtai7F"
      },
      "execution_count": null,
      "outputs": []
    },
    {
      "cell_type": "code",
      "source": [
        "# Push data to repo\n",
        "!dvc push -r origin"
      ],
      "metadata": {
        "id": "90UZslb-aj2w"
      },
      "execution_count": null,
      "outputs": []
    },
    {
      "cell_type": "markdown",
      "source": [
        "## Run only behavioral_test stage in pipeline"
      ],
      "metadata": {
        "id": "zS8C8SUrbxAZ"
      }
    },
    {
      "cell_type": "markdown",
      "source": [
        "If there is no change in saved model or input test data, the stage will skip and do nothing, since result is already cached."
      ],
      "metadata": {
        "id": "RCQrWZ0zc5gt"
      }
    },
    {
      "cell_type": "markdown",
      "source": [
        "The stage has to be specified with `-s behavioral_test` since this pipeline is connected to the output of the training pipeline. If you only run the command:\n",
        "\n",
        "```\n",
        "!dvc repro\n",
        "```\n",
        "\n",
        "then dvc will try to run the whole pipeline. Both the training stage (`train_eval`) and then the behavioral test (`behavioral_test`).\n"
      ],
      "metadata": {
        "id": "0lsB1SAvgeOW"
      }
    },
    {
      "cell_type": "code",
      "source": [
        "!dvc repro -s behavioral_test"
      ],
      "metadata": {
        "id": "08VFj7vXbzkj"
      },
      "execution_count": null,
      "outputs": []
    }
  ]
}