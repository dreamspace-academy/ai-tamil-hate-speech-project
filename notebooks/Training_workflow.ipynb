{
  "cells": [
    {
      "cell_type": "markdown",
      "metadata": {
        "id": "2i_sDNxi1mSr"
      },
      "source": [
        "# Training workflow"
      ]
    },
    {
      "cell_type": "markdown",
      "metadata": {
        "id": "LfnFw-1V1n6K"
      },
      "source": [
        "## Install necessary libraries for loading repo\n"
      ]
    },
    {
      "cell_type": "code",
      "execution_count": null,
      "metadata": {
        "id": "Usbkfzv3FNkb"
      },
      "outputs": [],
      "source": [
        "%%capture\n",
        "!pip install dvc fastds\n",
        "import os\n",
        "from getpass import getpass\n",
        "import urllib"
      ]
    },
    {
      "cell_type": "markdown",
      "metadata": {
        "id": "OTN0bclB10OD"
      },
      "source": [
        "## Set all credentials and download all necessary files/data for training"
      ]
    },
    {
      "cell_type": "markdown",
      "metadata": {
        "id": "DjLbZTpg8ZTj"
      },
      "source": [
        "### Set up local repo and branch"
      ]
    },
    {
      "cell_type": "code",
      "source": [
        "your_token = getpass('dagshub access token: ') \n",
        "your_token = urllib.parse.quote(your_token) \n",
        "\n",
        "your_username = input('dagshub username: ')\n",
        "your_email = input('email address: ')"
      ],
      "metadata": {
        "id": "q7TpveiIodZJ"
      },
      "execution_count": null,
      "outputs": []
    },
    {
      "cell_type": "code",
      "execution_count": null,
      "metadata": {
        "id": "gZ_mzvWzsdrO"
      },
      "outputs": [],
      "source": [
        "# Clone repo with personal token (Settings -> Tokens -> Default Access Token)\n",
        "cmd_string = 'git clone https://{0}@dagshub.com/Omdena/NYU.git'.format(your_token)\n",
        "os.system(cmd_string)\n",
        "%cd NYU\n",
        "\n",
        "# Switch to branch you want to work with and sync with remote branch (if necessary)\n",
        "!git fetch origin\n",
        "#!git checkout -b cross-validation origin/cross-validation\n",
        "\n",
        "# Change directory to training workflow\n",
        "%cd tasks/task-4-language-transformer-models/workflow"
      ]
    },
    {
      "cell_type": "markdown",
      "metadata": {
        "id": "cgaX4bX0CIAV"
      },
      "source": [
        "### Set up DVC and git"
      ]
    },
    {
      "cell_type": "code",
      "execution_count": null,
      "metadata": {
        "id": "YYZJTlVTn1Dp",
        "colab": {
          "base_uri": "https://localhost:8080/"
        },
        "outputId": "4a69b21e-e665-48c2-cfe5-c3d2c580cb8d"
      },
      "outputs": [
        {
          "output_type": "stream",
          "name": "stdout",
          "text": [
            "\u001b[0m\u001b[0m\u001b[0m"
          ]
        }
      ],
      "source": [
        "!dvc remote modify --local origin auth basic\n",
        "!dvc remote modify --local origin user '{your_username}'\n",
        "!dvc remote modify --local origin password '{your_token}'"
      ]
    },
    {
      "cell_type": "code",
      "execution_count": null,
      "metadata": {
        "id": "eIpfRrxpoJ2X"
      },
      "outputs": [],
      "source": [
        "!git config --global user.email '{your_email}'\n",
        "!git config --global user.name '{your_username}'"
      ]
    },
    {
      "cell_type": "markdown",
      "metadata": {
        "id": "pMDKIF7-v9oI"
      },
      "source": [
        "### Set mlflow credentials as env variables"
      ]
    },
    {
      "cell_type": "code",
      "execution_count": null,
      "metadata": {
        "id": "J19J2M_Xv9uh"
      },
      "outputs": [],
      "source": [
        "os.environ['MLFLOW_TRACKING_USERNAME'] = your_username\n",
        "os.environ['MLFLOW_TRACKING_PASSWORD'] = your_token\n",
        "os.environ['MLFLOW_TRACKING_URI'] = 'https://dagshub.com/Omdena/NYU.mlflow'"
      ]
    },
    {
      "cell_type": "markdown",
      "metadata": {
        "id": "s1Eqzw9lCTCO"
      },
      "source": [
        "### Pull training data"
      ]
    },
    {
      "cell_type": "code",
      "execution_count": null,
      "metadata": {
        "id": "MruZrX3iWM0f"
      },
      "outputs": [],
      "source": [
        "!dvc pull -r origin -R ../data/train.csv ../data/test.csv"
      ]
    },
    {
      "cell_type": "markdown",
      "metadata": {
        "id": "9gRW8ysW94sG"
      },
      "source": [
        "### Install dependencies for training"
      ]
    },
    {
      "cell_type": "code",
      "execution_count": null,
      "metadata": {
        "id": "ncDfHYj_9SDa"
      },
      "outputs": [],
      "source": [
        "%%capture\n",
        "!pip install -r requirements.txt"
      ]
    },
    {
      "cell_type": "markdown",
      "metadata": {
        "id": "c159tM62rrp9"
      },
      "source": [
        "## Create pipeline for train-dev procedure (*This should be run only if there's a change in the pipeline that we want to update in DagsHub*)"
      ]
    },
    {
      "cell_type": "markdown",
      "metadata": {
        "id": "1itgh3iR3ci7"
      },
      "source": [
        "Best model on dev set is saved and compute metrics of this model on test set."
      ]
    },
    {
      "cell_type": "code",
      "execution_count": null,
      "metadata": {
        "id": "ICAe24yg-H2p"
      },
      "outputs": [],
      "source": [
        "!dvc run -n train_eval \\\n",
        "-d ../data/train.csv \\\n",
        "-p params.yaml: \\\n",
        "-d train_eval.py \\\n",
        "-o model_artifacts/model_best.pt \\\n",
        "-o model_artifacts/args.pt \\\n",
        "-o model_artifacts/test_labels.txt \\\n",
        "-o model_artifacts/test_labels_gold.txt \\\n",
        "-o model_artifacts/test_labels_pred.txt \\\n",
        "-o model_artifacts/test_labels_prob_pred.txt \\\n",
        "-m model_artifacts/test_pr_values.csv \\\n",
        "--force \\\n",
        "--no-run-cache \\\n",
        "python train_eval.py"
      ]
    },
    {
      "cell_type": "markdown",
      "source": [
        "Update repo if you want to overwrite model artifacts with the one you just trained"
      ],
      "metadata": {
        "id": "21RPdmoODrzJ"
      }
    },
    {
      "cell_type": "code",
      "execution_count": null,
      "metadata": {
        "id": "lIIsctYr3_iL"
      },
      "outputs": [],
      "source": [
        "%%bash\n",
        "git status\n",
        "git add params.yaml dvc.lock\n",
        "git commit -m \"Update training pipeline\"\n",
        "git push\n",
        "dvc push -r origin"
      ]
    },
    {
      "cell_type": "markdown",
      "source": [
        "## Create pipeline for test procedure (This should be run only if there's a change in the pipeline that we want to update in DagsHub)"
      ],
      "metadata": {
        "id": "W8hUUVr3TUDQ"
      }
    },
    {
      "cell_type": "code",
      "source": [
        "!dvc run -n test \\\n",
        "-d ../data/test.csv \\\n",
        "-d test.py \\\n",
        "-d model_artifacts/model_best.pt \\\n",
        "-d model_artifacts/args.pt \\\n",
        "-m test_results/test_metrics.json \\\n",
        "--force \\\n",
        "--no-run-cache \\\n",
        "python test.py"
      ],
      "metadata": {
        "id": "n1QQACq1TWkU"
      },
      "execution_count": null,
      "outputs": []
    },
    {
      "cell_type": "code",
      "source": [
        "!git status"
      ],
      "metadata": {
        "id": "-TOJxO1AdPXw"
      },
      "execution_count": null,
      "outputs": []
    },
    {
      "cell_type": "code",
      "source": [
        "%%bash\n",
        "git status\n",
        "git add dvc.lock dvc.yaml est_results/.gitignore\n",
        "git commit -m \"Update training pipeline\"\n",
        "git push\n",
        "dvc push -r origin"
      ],
      "metadata": {
        "id": "0j6j5ToPdCuY"
      },
      "execution_count": null,
      "outputs": []
    },
    {
      "cell_type": "markdown",
      "metadata": {
        "id": "4eZDcF32-HvG"
      },
      "source": [
        "## Run workflow"
      ]
    },
    {
      "cell_type": "markdown",
      "source": [
        "This will both stages of the workflow:\n",
        "\n",
        "\n",
        "*   train_eval: Train model and get evaluation metrics\n",
        "*   test: Get test metrics on model trained in previous stage\n",
        "\n"
      ],
      "metadata": {
        "id": "FHOgbA7gD7TU"
      }
    },
    {
      "cell_type": "markdown",
      "metadata": {
        "id": "pyhpetDY-nBe"
      },
      "source": [
        "Modify `params.yaml` file to tune hyperparams and training arguments as needed."
      ]
    },
    {
      "cell_type": "code",
      "execution_count": null,
      "metadata": {
        "id": "Y2dlJgYACuaW"
      },
      "outputs": [],
      "source": [
        "!dvc repro"
      ]
    },
    {
      "cell_type": "markdown",
      "metadata": {
        "id": "F6bMAIYe7WZ9"
      },
      "source": [
        "Save changes"
      ]
    },
    {
      "cell_type": "code",
      "execution_count": null,
      "metadata": {
        "id": "hgiq9OBi7Y1K"
      },
      "outputs": [],
      "source": [
        "%%bash\n",
        "git add ../data.dvc dvc.lock params.yaml\n",
        "git commit -m \"Update pipeline for binary classification\"\n",
        "git push"
      ]
    },
    {
      "cell_type": "code",
      "execution_count": null,
      "metadata": {
        "id": "jHN6DJ6n7YKD"
      },
      "outputs": [],
      "source": [
        "!dvc push -r origin"
      ]
    },
    {
      "cell_type": "markdown",
      "metadata": {
        "id": "ub9P3FyUwm9F"
      },
      "source": [
        "## Deleting pipeline"
      ]
    },
    {
      "cell_type": "markdown",
      "source": [
        "Run only if you want to delete a stage in the pipeline"
      ],
      "metadata": {
        "id": "ZSpDSMVPEUF7"
      }
    },
    {
      "cell_type": "code",
      "execution_count": null,
      "metadata": {
        "id": "YeD2exBUwnHG"
      },
      "outputs": [],
      "source": [
        "%%bash\n",
        "dvc remove train_eval\n",
        "git add .gitignore dvc.lock dvc.yaml\n",
        "git commit -m \"Remove cross-validation pipeline\"\n",
        "git push"
      ]
    }
  ],
  "metadata": {
    "accelerator": "GPU",
    "colab": {
      "collapsed_sections": [],
      "provenance": []
    },
    "gpuClass": "standard",
    "kernelspec": {
      "display_name": "Python 3",
      "name": "python3"
    },
    "language_info": {
      "name": "python"
    }
  },
  "nbformat": 4,
  "nbformat_minor": 0
}