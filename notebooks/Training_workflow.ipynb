{
  "nbformat": 4,
  "nbformat_minor": 0,
  "metadata": {
    "colab": {
      "name": "Copy of workflow.ipynb",
      "provenance": [],
      "collapsed_sections": []
    },
    "kernelspec": {
      "name": "python3",
      "display_name": "Python 3"
    },
    "language_info": {
      "name": "python"
    },
    "accelerator": "GPU"
  },
  "cells": [
    {
      "cell_type": "code",
      "source": [
        "%%capture\n",
        "!pip install dvc fastds\n",
        "\n",
        "import os"
      ],
      "metadata": {
        "id": "Usbkfzv3FNkb"
      },
      "execution_count": null,
      "outputs": []
    },
    {
      "cell_type": "markdown",
      "source": [
        "### Set up local repo and branch"
      ],
      "metadata": {
        "id": "DjLbZTpg8ZTj"
      }
    },
    {
      "cell_type": "code",
      "execution_count": null,
      "metadata": {
        "id": "cCBHnbKs8SDl"
      },
      "outputs": [],
      "source": [
        "# Clone repo with personal token (Settings -> Tokens -> Default Access Token)\n",
        "!git clone https://{your_token}@dagshub.com/Omdena/NYU.git\n",
        "\n",
        "# Create branch and make it track remote branch, then change to created branch\n",
        "%cd NYU\n",
        "!git branch task-4-training origin/task-4-training\n",
        "!git checkout task-4-training\n",
        "\n",
        "%cd tasks/task-4-language-transformer-models/workflow\n",
        "print(f\"\\nCurrent directory: {os.getcwd()}\")"
      ]
    },
    {
      "cell_type": "markdown",
      "source": [
        "### Set up remote DVC"
      ],
      "metadata": {
        "id": "cgaX4bX0CIAV"
      }
    },
    {
      "cell_type": "code",
      "source": [
        "!dvc remote add origin --local https://dagshub.com/Omdena/NYU.dvc"
      ],
      "metadata": {
        "id": "YYZJTlVTn1Dp"
      },
      "execution_count": null,
      "outputs": []
    },
    {
      "cell_type": "code",
      "source": [
        "!dvc remote modify --local origin auth basic\n",
        "!dvc remote modify --local origin user {your_username}\n",
        "!dvc remote modify --local origin password {your_token}"
      ],
      "metadata": {
        "id": "W0ni-mPLKdee"
      },
      "execution_count": null,
      "outputs": []
    },
    {
      "cell_type": "markdown",
      "source": [
        "### Pull artifacts (data, model files and predictions in test set)"
      ],
      "metadata": {
        "id": "s1Eqzw9lCTCO"
      }
    },
    {
      "cell_type": "code",
      "source": [
        "!dvc pull -r origin"
      ],
      "metadata": {
        "id": "ZmHsExB0ujvS"
      },
      "execution_count": null,
      "outputs": []
    },
    {
      "cell_type": "markdown",
      "source": [
        "### Install dependencies"
      ],
      "metadata": {
        "id": "9gRW8ysW94sG"
      }
    },
    {
      "cell_type": "code",
      "source": [
        "%%capture\n",
        "!pip install -r requirements.txt"
      ],
      "metadata": {
        "id": "ncDfHYj_9SDa"
      },
      "execution_count": null,
      "outputs": []
    },
    {
      "cell_type": "markdown",
      "source": [
        "### Set mlflow credentials as env variables"
      ],
      "metadata": {
        "id": "pMDKIF7-v9oI"
      }
    },
    {
      "cell_type": "code",
      "source": [
        "%env MLFLOW_TRACKING_URI=https://dagshub.com/Omdena/NYU.mlflow\n",
        "%env MLFLOW_TRACKING_USERNAME={your_username}\n",
        "%env MLFLOW_TRACKING_PASSWORD={your_token}"
      ],
      "metadata": {
        "id": "J19J2M_Xv9uh"
      },
      "execution_count": null,
      "outputs": []
    },
    {
      "cell_type": "markdown",
      "source": [
        "### Shouldn't be run. Creates and runs workflow. Used to create ```train_eval``` pipeline shown in the repo). Since it already exists in repo, will throw error."
      ],
      "metadata": {
        "id": "Phoo_gBq83KZ"
      }
    },
    {
      "cell_type": "code",
      "source": [
        "!dvc run -n train_eval \\\n",
        "-d ../data/hate-speech-homophobia/train_data.csv \\\n",
        "-d ../data/hate-speech-homophobia/dev_data.csv \\\n",
        "-d ../data/hate-speech-homophobia/test_data.csv \\\n",
        "-d params.yaml \\\n",
        "-o model_artifacts/model_best.pt \\\n",
        "-o model_artifacts/args.pt \\\n",
        "-o model_artifacts/test_labels.txt \\\n",
        "-o model_artifacts/test_labels_gold.txt \\\n",
        "-o model_artifacts/test_labels_pred.txt \\\n",
        "python train.py"
      ],
      "metadata": {
        "id": "ICAe24yg-H2p"
      },
      "execution_count": null,
      "outputs": []
    },
    {
      "cell_type": "markdown",
      "source": [
        "### Run workflow"
      ],
      "metadata": {
        "id": "4eZDcF32-HvG"
      }
    },
    {
      "cell_type": "markdown",
      "source": [
        "Modify `params.yaml` file to tune hyperparams and training arguments as needed. Then run training script with dvc to generate DAG in Dagshub."
      ],
      "metadata": {
        "id": "pyhpetDY-nBe"
      }
    },
    {
      "cell_type": "code",
      "source": [
        "!rm -r model_artifacts/"
      ],
      "metadata": {
        "id": "Z8G6y33R9XSK"
      },
      "execution_count": null,
      "outputs": []
    },
    {
      "cell_type": "code",
      "source": [
        "!dvc repro"
      ],
      "metadata": {
        "id": "Y2dlJgYACuaW"
      },
      "execution_count": null,
      "outputs": []
    },
    {
      "cell_type": "markdown",
      "source": [
        "Save changes"
      ],
      "metadata": {
        "id": "F6bMAIYe7WZ9"
      }
    },
    {
      "cell_type": "code",
      "source": [
        "!git add dvc.lock\n",
        "!git commit -m \"\"\n",
        "!git push"
      ],
      "metadata": {
        "id": "hgiq9OBi7Y1K"
      },
      "execution_count": null,
      "outputs": []
    },
    {
      "cell_type": "code",
      "source": [
        "!dvc push -r origin"
      ],
      "metadata": {
        "id": "jHN6DJ6n7YKD"
      },
      "execution_count": null,
      "outputs": []
    }
  ]
}