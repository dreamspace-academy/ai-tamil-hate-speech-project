{
  "nbformat": 4,
  "nbformat_minor": 0,
  "metadata": {
    "colab": {
      "name": "Training_workflow.ipynb",
      "provenance": [],
      "collapsed_sections": [
        "Y9rtzrkC7yBv",
        "y6qcnPwVzqOw"
      ]
    },
    "kernelspec": {
      "name": "python3",
      "display_name": "Python 3"
    },
    "language_info": {
      "name": "python"
    },
    "accelerator": "GPU",
    "gpuClass": "standard"
  },
  "cells": [
    {
      "cell_type": "markdown",
      "source": [
        "# Training workflow"
      ],
      "metadata": {
        "id": "2i_sDNxi1mSr"
      }
    },
    {
      "cell_type": "markdown",
      "source": [
        "## Install necessary libraries for loading repo\n"
      ],
      "metadata": {
        "id": "LfnFw-1V1n6K"
      }
    },
    {
      "cell_type": "code",
      "source": [
        "%%capture\n",
        "!pip install dvc fastds\n",
        "import os"
      ],
      "metadata": {
        "id": "Usbkfzv3FNkb"
      },
      "execution_count": null,
      "outputs": []
    },
    {
      "cell_type": "markdown",
      "source": [
        "## Set all credentials and download all necessary files/data for training"
      ],
      "metadata": {
        "id": "OTN0bclB10OD"
      }
    },
    {
      "cell_type": "markdown",
      "source": [
        "### Set up local repo and branch"
      ],
      "metadata": {
        "id": "DjLbZTpg8ZTj"
      }
    },
    {
      "cell_type": "code",
      "source": [
        "# Clone repo with personal token (Settings -> Tokens -> Default Access Token)\n",
        "!git clone https://{your_token}@dagshub.com/Omdena/NYU.git\n",
        "%cd NYU\n",
        "\n",
        "# Switch to branch you want to work with and sync with remote branch (if necessary)\n",
        "!git fetch origin\n",
        "!git checkout -b cross-validation origin/cross-validation\n",
        "\n",
        "# Change directory to training workflow\n",
        "%cd tasks/task-4-language-transformer-models/workflow"
      ],
      "metadata": {
        "id": "gZ_mzvWzsdrO"
      },
      "execution_count": null,
      "outputs": []
    },
    {
      "cell_type": "markdown",
      "source": [
        "### Set up DVC and git"
      ],
      "metadata": {
        "id": "cgaX4bX0CIAV"
      }
    },
    {
      "cell_type": "code",
      "source": [
        "%%bash\n",
        "dvc remote add origin --local https://dagshub.com/Omdena/NYU.dvc\n",
        "dvc remote modify --local origin auth basic\n",
        "dvc remote modify --local origin user {your_username}\n",
        "dvc remote modify --local origin password {your_token}"
      ],
      "metadata": {
        "id": "YYZJTlVTn1Dp"
      },
      "execution_count": null,
      "outputs": []
    },
    {
      "cell_type": "code",
      "source": [
        "%%bash\n",
        "git config --global user.email \"user@gmail.com\"\n",
        "git config --global user.name \"username\""
      ],
      "metadata": {
        "id": "eIpfRrxpoJ2X"
      },
      "execution_count": null,
      "outputs": []
    },
    {
      "cell_type": "markdown",
      "source": [
        "### Set mlflow credentials as env variables"
      ],
      "metadata": {
        "id": "pMDKIF7-v9oI"
      }
    },
    {
      "cell_type": "code",
      "source": [
        "%env MLFLOW_TRACKING_USERNAME={your_username}\n",
        "%env MLFLOW_TRACKING_PASSWORD={your_token}\n",
        "%env MLFLOW_TRACKING_URI=https://dagshub.com/Omdena/NYU.mlflow"
      ],
      "metadata": {
        "id": "J19J2M_Xv9uh"
      },
      "execution_count": null,
      "outputs": []
    },
    {
      "cell_type": "markdown",
      "source": [
        "### Pull training data"
      ],
      "metadata": {
        "id": "s1Eqzw9lCTCO"
      }
    },
    {
      "cell_type": "code",
      "source": [
        "!dvc pull -r origin -R ../data/hate-speech-homophobia"
      ],
      "metadata": {
        "id": "MruZrX3iWM0f"
      },
      "execution_count": null,
      "outputs": []
    },
    {
      "cell_type": "markdown",
      "source": [
        "### Install dependencies for training"
      ],
      "metadata": {
        "id": "9gRW8ysW94sG"
      }
    },
    {
      "cell_type": "code",
      "source": [
        "%%capture\n",
        "!pip install -r requirements.txt"
      ],
      "metadata": {
        "id": "ncDfHYj_9SDa"
      },
      "execution_count": null,
      "outputs": []
    },
    {
      "cell_type": "markdown",
      "source": [
        "## Making changes to code only"
      ],
      "metadata": {
        "id": "Y9rtzrkC7yBv"
      }
    },
    {
      "cell_type": "code",
      "source": [
        "!git status"
      ],
      "metadata": {
        "id": "kBLMW_AW7yLe"
      },
      "execution_count": null,
      "outputs": []
    },
    {
      "cell_type": "code",
      "source": [
        "!git add train_k_fold.py"
      ],
      "metadata": {
        "id": "dnGEypRx8Rnp"
      },
      "execution_count": null,
      "outputs": []
    },
    {
      "cell_type": "code",
      "source": [
        "!git commit -m \"Update training code\""
      ],
      "metadata": {
        "id": "yjabtJZQ8UWo"
      },
      "execution_count": null,
      "outputs": []
    },
    {
      "cell_type": "code",
      "source": [
        "!git push"
      ],
      "metadata": {
        "id": "o9A-f_c38YJH"
      },
      "execution_count": null,
      "outputs": []
    },
    {
      "cell_type": "markdown",
      "source": [
        "## Data processing pipeline"
      ],
      "metadata": {
        "id": "y6qcnPwVzqOw"
      }
    },
    {
      "cell_type": "code",
      "source": [
        ""
      ],
      "metadata": {
        "id": "GdtvJC6fzuz3"
      },
      "execution_count": null,
      "outputs": []
    },
    {
      "cell_type": "markdown",
      "source": [
        "## Create cross validation pipeline (*This should be run only if there's a change in the pipeline that we want to update in DagsHub*)"
      ],
      "metadata": {
        "id": "Phoo_gBq83KZ"
      }
    },
    {
      "cell_type": "markdown",
      "source": [
        "Takes all data and creates k folds to train model and give confidence interval on performance metrics. No trained model is saved since cross-validation is intended for picking best configuration only."
      ],
      "metadata": {
        "id": "LGoSbizy2nyn"
      }
    },
    {
      "cell_type": "code",
      "source": [
        "# Create branch\n",
        "\n",
        "!git checkout -b cross-validation"
      ],
      "metadata": {
        "id": "2PkPjh72xJX4"
      },
      "execution_count": null,
      "outputs": []
    },
    {
      "cell_type": "code",
      "source": [
        "!dvc run -n train_k_fold \\\n",
        "-d ../data/hate-speech-homophobia/train_data.csv \\\n",
        "-d train_k_fold.py \\\n",
        "-p params.yaml: \\\n",
        "-m model_artifacts/cv_results.json \\\n",
        "-o model_artifacts/args.pt \\\n",
        "-o model_artifacts/logfile.log \\\n",
        "--force \\\n",
        "--no-run-cache \\\n",
        "python train_k_fold.py"
      ],
      "metadata": {
        "id": "F0WTMrZez_0T"
      },
      "execution_count": null,
      "outputs": []
    },
    {
      "cell_type": "code",
      "source": [
        "%%bash\n",
        "git status\n",
        "git add dvc.yaml dvc.lock\n",
        "git commit -m \"Create k stratified cross validation training pipeline\"\n",
        "git push\n",
        "dvc push -r origin"
      ],
      "metadata": {
        "id": "FRV8CdAV4QPu"
      },
      "execution_count": null,
      "outputs": []
    },
    {
      "cell_type": "markdown",
      "source": [
        "## Create pipeline for train-dev-test procedure (*This should be run only if there's a change in the pipeline that we want to update in DagsHub*)"
      ],
      "metadata": {
        "id": "c159tM62rrp9"
      }
    },
    {
      "cell_type": "markdown",
      "source": [
        "Best model on dev set is saved and compute metrics of this model on test set."
      ],
      "metadata": {
        "id": "1itgh3iR3ci7"
      }
    },
    {
      "cell_type": "code",
      "source": [
        "!dvc run -n train_eval \\\n",
        "-d ../data/hate-speech-homophobia/train_data.csv \\\n",
        "-d ../data/hate-speech-homophobia/dev_data.csv \\\n",
        "-d ../data/hate-speech-homophobia/test_data.csv \\\n",
        "-p params.yaml \\\n",
        "-d train_eval.py \\\n",
        "-o model_artifacts/model_best.pt \\\n",
        "-o model_artifacts/args.pt \\\n",
        "-o model_artifacts/test_labels.txt \\\n",
        "-o model_artifacts/test_labels_gold.txt \\\n",
        "-o model_artifacts/test_labels_pred.txt \\\n",
        "-o model_artifacts/test_labels_prob_pred.txt \\\n",
        "-o model_artifacts/test_pr_values.txt \\\n",
        "--force \\\n",
        "--no-run-cache \\\n",
        "python train_eval.py"
      ],
      "metadata": {
        "id": "ICAe24yg-H2p"
      },
      "execution_count": null,
      "outputs": []
    },
    {
      "cell_type": "code",
      "source": [
        "%%bash\n",
        "git status\n",
        "git add dvc.yaml dvc.lock\n",
        "git commit -m \"Create k stratified cross validation training pipeline\"\n",
        "git push\n",
        "dvc push -r origin"
      ],
      "metadata": {
        "id": "lIIsctYr3_iL"
      },
      "execution_count": null,
      "outputs": []
    },
    {
      "cell_type": "markdown",
      "source": [
        "## Run workflow"
      ],
      "metadata": {
        "id": "4eZDcF32-HvG"
      }
    },
    {
      "cell_type": "markdown",
      "source": [
        "Modify `params.yaml` file to tune hyperparams and training arguments as needed."
      ],
      "metadata": {
        "id": "pyhpetDY-nBe"
      }
    },
    {
      "cell_type": "code",
      "source": [
        "!dvc repro"
      ],
      "metadata": {
        "id": "Y2dlJgYACuaW"
      },
      "execution_count": null,
      "outputs": []
    },
    {
      "cell_type": "markdown",
      "source": [
        "Save changes"
      ],
      "metadata": {
        "id": "F6bMAIYe7WZ9"
      }
    },
    {
      "cell_type": "code",
      "source": [
        "%%bash\n",
        "git add add dvc.yaml dvc.lock\n",
        "git commit -m \"Update pipeline for binary classification\"\n",
        "git push"
      ],
      "metadata": {
        "id": "hgiq9OBi7Y1K"
      },
      "execution_count": null,
      "outputs": []
    },
    {
      "cell_type": "code",
      "source": [
        "!dvc push -r origin"
      ],
      "metadata": {
        "id": "jHN6DJ6n7YKD"
      },
      "execution_count": null,
      "outputs": []
    },
    {
      "cell_type": "markdown",
      "source": [
        "## Deleting pipeline"
      ],
      "metadata": {
        "id": "ub9P3FyUwm9F"
      }
    },
    {
      "cell_type": "code",
      "source": [
        "%%bash\n",
        "dvc remove train_k_fold\n",
        "git add .gitignore dvc.lock dvc.yaml\n",
        "git commit -m \"Remove cross-validation pipeline\"\n",
        "git push"
      ],
      "metadata": {
        "id": "YeD2exBUwnHG"
      },
      "execution_count": null,
      "outputs": []
    }
  ]
}