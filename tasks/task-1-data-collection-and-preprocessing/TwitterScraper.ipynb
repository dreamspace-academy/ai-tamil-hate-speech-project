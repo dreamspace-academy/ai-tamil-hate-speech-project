{
  "nbformat": 4,
  "nbformat_minor": 0,
  "metadata": {
    "colab": {
      "name": "TwitterScraper.ipynb",
      "provenance": [],
      "collapsed_sections": []
    },
    "kernelspec": {
      "name": "python3",
      "display_name": "Python 3"
    },
    "language_info": {
      "name": "python"
    }
  },
  "cells": [
    {
      "cell_type": "code",
      "source": [
        "!pip3 install tweepy"
      ],
      "metadata": {
        "colab": {
          "base_uri": "https://localhost:8080/"
        },
        "id": "pk7Kl7W014xX",
        "outputId": "ac2111ed-90af-48f0-fac9-25618198ed3b"
      },
      "execution_count": 7,
      "outputs": [
        {
          "output_type": "stream",
          "name": "stdout",
          "text": [
            "Requirement already satisfied: tweepy in /usr/local/lib/python3.7/dist-packages (3.10.0)\n",
            "Requirement already satisfied: requests[socks]>=2.11.1 in /usr/local/lib/python3.7/dist-packages (from tweepy) (2.23.0)\n",
            "Requirement already satisfied: six>=1.10.0 in /usr/local/lib/python3.7/dist-packages (from tweepy) (1.15.0)\n",
            "Requirement already satisfied: requests-oauthlib>=0.7.0 in /usr/local/lib/python3.7/dist-packages (from tweepy) (1.3.1)\n",
            "Requirement already satisfied: oauthlib>=3.0.0 in /usr/local/lib/python3.7/dist-packages (from requests-oauthlib>=0.7.0->tweepy) (3.2.0)\n",
            "Requirement already satisfied: urllib3!=1.25.0,!=1.25.1,<1.26,>=1.21.1 in /usr/local/lib/python3.7/dist-packages (from requests[socks]>=2.11.1->tweepy) (1.25.11)\n",
            "Requirement already satisfied: chardet<4,>=3.0.2 in /usr/local/lib/python3.7/dist-packages (from requests[socks]>=2.11.1->tweepy) (3.0.4)\n",
            "Requirement already satisfied: certifi>=2017.4.17 in /usr/local/lib/python3.7/dist-packages (from requests[socks]>=2.11.1->tweepy) (2021.10.8)\n",
            "Requirement already satisfied: idna<3,>=2.5 in /usr/local/lib/python3.7/dist-packages (from requests[socks]>=2.11.1->tweepy) (2.10)\n",
            "Requirement already satisfied: PySocks!=1.5.7,>=1.5.6 in /usr/local/lib/python3.7/dist-packages (from requests[socks]>=2.11.1->tweepy) (1.7.1)\n"
          ]
        }
      ]
    },
    {
      "cell_type": "code",
      "source": [
        "import tweepy\n",
        "import pandas as pd\n",
        "import time"
      ],
      "metadata": {
        "id": "8Ngfn-fF1GKE"
      },
      "execution_count": 11,
      "outputs": []
    },
    {
      "cell_type": "code",
      "source": [
        "# Credentials\n",
        "#UPDATE MY CREDENTIALS\n",
        "consumer_key = \"XXXXXX\"\n",
        "consumer_secret = \"XXXXXX\"\n",
        "access_token = \"XXXXXX\"\n",
        "access_token_secret = \"XXXXXX\"\n",
        "\n",
        "auth = tweepy.OAuthHandler(consumer_key, consumer_secret)\n",
        "auth.set_access_token(access_token, access_token_secret)\n",
        "api = tweepy.API(auth,wait_on_rate_limit=True)"
      ],
      "metadata": {
        "id": "-vcDXGiF1GPt"
      },
      "execution_count": 12,
      "outputs": []
    },
    {
      "cell_type": "code",
      "source": [
        "tweets = []\n",
        "\n",
        "def text_query_to_csv(text_query,count):\n",
        "    try:\n",
        "        # Creation of query method using parameters\n",
        "        tweets = tweepy.Cursor(api.search,q=text_query).items(count)\n",
        "\n",
        "        # Pulling information from tweets iterable object\n",
        "        tweets_list = [[tweet.created_at, tweet.id, tweet.text] for tweet in tweets]\n",
        "\n",
        "        # Creation of dataframe from tweets list\n",
        "        # Add or remove columns as you remove tweet information\n",
        "        tweets_df = pd.DataFrame(tweets_list,columns=['Datetime', 'Tweet Id', 'Text'])\n",
        "\n",
        "        # Converting dataframe to CSV \n",
        "        tweets_df.to_csv('{}-tweets.csv'.format(text_query), sep=',', index = False)\n",
        "\n",
        "    except BaseException as e:\n",
        "        print('failed on_status,',str(e))\n",
        "        time.sleep(3)"
      ],
      "metadata": {
        "id": "k8JJUYQK2L64"
      },
      "execution_count": 13,
      "outputs": []
    },
    {
      "cell_type": "code",
      "source": [
        "count = 150 #set tweet count\n",
        "# Input search query to scrape tweets and name csv file\n",
        "text_query = ['XXXXXXX']\n",
        "for i in text_query:\n",
        "  # Calling function to query 'count' amount of relevant tweets and create a CSV file\n",
        "  text_query_to_csv(i, count)"
      ],
      "metadata": {
        "id": "ZmKHp72n6jQH"
      },
      "execution_count": null,
      "outputs": []
    }
  ]
}