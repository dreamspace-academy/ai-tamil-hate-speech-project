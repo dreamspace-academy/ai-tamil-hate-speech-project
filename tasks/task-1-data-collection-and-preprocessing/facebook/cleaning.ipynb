{
 "cells": [
  {
   "cell_type": "code",
   "execution_count": 1,
   "metadata": {},
   "outputs": [],
   "source": [
    "import pandas as pd"
   ]
  },
  {
   "cell_type": "code",
   "execution_count": 3,
   "metadata": {},
   "outputs": [],
   "source": [
    "df1 = pd.read_csv(\"fb_scraped_date.csv\")\n",
    "df2 = pd.read_csv(\"fb_Scraped_date1.csv\")"
   ]
  },
  {
   "cell_type": "code",
   "execution_count": 16,
   "metadata": {},
   "outputs": [
    {
     "data": {
      "text/html": [
       "<div>\n",
       "<style scoped>\n",
       "    .dataframe tbody tr th:only-of-type {\n",
       "        vertical-align: middle;\n",
       "    }\n",
       "\n",
       "    .dataframe tbody tr th {\n",
       "        vertical-align: top;\n",
       "    }\n",
       "\n",
       "    .dataframe thead th {\n",
       "        text-align: right;\n",
       "    }\n",
       "</style>\n",
       "<table border=\"1\" class=\"dataframe\">\n",
       "  <thead>\n",
       "    <tr style=\"text-align: right;\">\n",
       "      <th></th>\n",
       "      <th>Unnamed: 0</th>\n",
       "      <th>Group Name</th>\n",
       "      <th>Articles</th>\n",
       "      <th>HS Words</th>\n",
       "    </tr>\n",
       "  </thead>\n",
       "  <tbody>\n",
       "    <tr>\n",
       "      <th>0</th>\n",
       "      <td>0</td>\n",
       "      <td>lellahutanpage</td>\n",
       "      <td>අදින් විශ්‍රාම යන ජෙනරාල් ශවේන්ද්‍ර සිල්වා මහත...</td>\n",
       "      <td>0</td>\n",
       "    </tr>\n",
       "    <tr>\n",
       "      <th>1</th>\n",
       "      <td>1</td>\n",
       "      <td>lellahutanpage</td>\n",
       "      <td>😁😁</td>\n",
       "      <td>0</td>\n",
       "    </tr>\n",
       "    <tr>\n",
       "      <th>2</th>\n",
       "      <td>2</td>\n",
       "      <td>Gangsterrathne</td>\n",
       "      <td>අදින් විශ්‍රාම යන ජෙනරාල් ශවේන්ද්‍ර සිල්වා මහත...</td>\n",
       "      <td>0</td>\n",
       "    </tr>\n",
       "    <tr>\n",
       "      <th>3</th>\n",
       "      <td>3</td>\n",
       "      <td>Gangsterrathne</td>\n",
       "      <td>🥲\\n\\nThe Gemcity Journal\\nYesterday at 18:01 ·...</td>\n",
       "      <td>0</td>\n",
       "    </tr>\n",
       "    <tr>\n",
       "      <th>4</th>\n",
       "      <td>4</td>\n",
       "      <td>buwaSL</td>\n",
       "      <td>අද 🥰</td>\n",
       "      <td>0</td>\n",
       "    </tr>\n",
       "  </tbody>\n",
       "</table>\n",
       "</div>"
      ],
      "text/plain": [
       "   Unnamed: 0      Group Name  \\\n",
       "0           0  lellahutanpage   \n",
       "1           1  lellahutanpage   \n",
       "2           2  Gangsterrathne   \n",
       "3           3  Gangsterrathne   \n",
       "4           4          buwaSL   \n",
       "\n",
       "                                            Articles  HS Words  \n",
       "0  අදින් විශ්‍රාම යන ජෙනරාල් ශවේන්ද්‍ර සිල්වා මහත...         0  \n",
       "1                                                 😁😁         0  \n",
       "2  අදින් විශ්‍රාම යන ජෙනරාල් ශවේන්ද්‍ර සිල්වා මහත...         0  \n",
       "3  🥲\\n\\nThe Gemcity Journal\\nYesterday at 18:01 ·...         0  \n",
       "4                                               අද 🥰         0  "
      ]
     },
     "execution_count": 16,
     "metadata": {},
     "output_type": "execute_result"
    }
   ],
   "source": [
    "df1.head()"
   ]
  },
  {
   "cell_type": "code",
   "execution_count": 5,
   "metadata": {},
   "outputs": [
    {
     "data": {
      "text/plain": [
       "1828"
      ]
     },
     "execution_count": 5,
     "metadata": {},
     "output_type": "execute_result"
    }
   ],
   "source": [
    "df2.size"
   ]
  },
  {
   "cell_type": "code",
   "execution_count": 9,
   "metadata": {},
   "outputs": [
    {
     "data": {
      "text/plain": [
       "7708"
      ]
     },
     "execution_count": 9,
     "metadata": {},
     "output_type": "execute_result"
    }
   ],
   "source": [
    "df3 = pd.concat([df1,df2])\n",
    "df3.size"
   ]
  },
  {
   "cell_type": "code",
   "execution_count": 10,
   "metadata": {},
   "outputs": [],
   "source": [
    "df3 = df3.drop_duplicates()"
   ]
  },
  {
   "cell_type": "code",
   "execution_count": 13,
   "metadata": {},
   "outputs": [
    {
     "data": {
      "text/plain": [
       "['தேவடியாள்',\n",
       " 'Thevadiyal',\n",
       " 'Thevadiyaal',\n",
       " 'வேச',\n",
       " 'வேசி',\n",
       " 'Vesa',\n",
       " 'Vesi',\n",
       " 'Vesai',\n",
       " 'சோனகன்',\n",
       " 'சோனி',\n",
       " 'Sonakan',\n",
       " 'Soni',\n",
       " 'Sonahan',\n",
       " 'Sonagan',\n",
       " 'தொப்பிபிரட்டி',\n",
       " 'Thoppipiratti',\n",
       " 'Thoppipiraddi',\n",
       " '',\n",
       " 'மொட்டை',\n",
       " 'Moddai',\n",
       " 'mottai',\n",
       " 'மத.வெறியர்',\n",
       " 'Matha',\n",
       " 'veriyar',\n",
       " 'இனத்துவேசி',\n",
       " 'Inaththuvasi',\n",
       " 'மோட்டு',\n",
       " 'சிங்களவன்',\n",
       " 'Moddu',\n",
       " 'singalavan',\n",
       " 'பயங்கரவாதி',\n",
       " 'தீவிரவாதி',\n",
       " 'Payankaravathi',\n",
       " 'thiviravathi',\n",
       " 'அல்லேலூயா',\n",
       " 'குறூப்',\n",
       " 'Alloluya',\n",
       " 'தோட்டக்',\n",
       " 'காட்டான்',\n",
       " 'Thoddakaddan',\n",
       " 'வந்தேறி',\n",
       " 'Vantheri',\n",
       " 'புர்க்கா',\n",
       " 'Purka',\n",
       " 'burka',\n",
       " 'அயிட்டம்',\n",
       " 'துன்டு',\n",
       " 'பிகர்',\n",
       " 'Thundu',\n",
       " 'மட்டக்களப்பார்',\n",
       " 'Mattakalappaan',\n",
       " 'mattakalappaar',\n",
       " 'மட்டக்களப்பான்',\n",
       " 'யாழ்ப்பாணிகள்',\n",
       " 'Yaalppaanikal',\n",
       " 'yaalppaani',\n",
       " 'யாழ்ப்பாணி',\n",
       " 'யாழ்ப்பானி']"
      ]
     },
     "execution_count": 13,
     "metadata": {},
     "output_type": "execute_result"
    }
   ],
   "source": [
    "keywords = 'தேவடியாள்,Thevadiyal,Thevadiyaal,வேச, வேசி,Vesa, Vesi, Vesai, சோனகன், சோனி , Sonakan, Soni, Sonahan, Sonagan , தொப்பி பிரட்டி ,Thoppipiratti, Thoppipiraddi, ,மொட்டை , Moddai,mottai,மத.வெறியர்,Matha,veriyar,இனத்துவேசி,Inaththuvasi,மோட்டு,சிங்களவன்,Moddu,singalavan,பயங்கரவாதி,தீவிரவாதி,Payankaravathi,thiviravathi,அல்லேலூயா,குறூப்,Alloluya,தோட்டக்,காட்டான்,Thoddakaddan,வந்தேறி,Vantheri,புர்க்கா,Purka,burka,அயிட்டம்,துன்டு,பிகர்,Thundu,மட்டக்களப்பார்,Mattakalappaan,mattakalappaar,மட்டக்களப்பான்,யாழ்ப்பாணிகள்,Yaalppaanikal,yaalppaani,யாழ்ப்பாணி,யாழ்ப்பானி'\n",
    "keywords = keywords.split(',')\n",
    "for i in range(len(keywords)):\n",
    "    keywords[i] = keywords[i].replace(\" \",\"\")\n",
    "\n",
    "keywords"
   ]
  },
  {
   "cell_type": "code",
   "execution_count": 17,
   "metadata": {},
   "outputs": [],
   "source": [
    "def isTamil(x):\n",
    "    global keywords\n",
    "    if any(y in x for y in keywords):\n",
    "        return True\n",
    "    else:\n",
    "        return False\n",
    "\n",
    "\n",
    "df3['isTamil'] = df3['Articles'].apply(isTamil)"
   ]
  },
  {
   "cell_type": "code",
   "execution_count": 18,
   "metadata": {},
   "outputs": [
    {
     "data": {
      "text/html": [
       "<div>\n",
       "<style scoped>\n",
       "    .dataframe tbody tr th:only-of-type {\n",
       "        vertical-align: middle;\n",
       "    }\n",
       "\n",
       "    .dataframe tbody tr th {\n",
       "        vertical-align: top;\n",
       "    }\n",
       "\n",
       "    .dataframe thead th {\n",
       "        text-align: right;\n",
       "    }\n",
       "</style>\n",
       "<table border=\"1\" class=\"dataframe\">\n",
       "  <thead>\n",
       "    <tr style=\"text-align: right;\">\n",
       "      <th></th>\n",
       "      <th>Unnamed: 0</th>\n",
       "      <th>Group Name</th>\n",
       "      <th>Articles</th>\n",
       "      <th>HS Words</th>\n",
       "      <th>isTamil</th>\n",
       "    </tr>\n",
       "  </thead>\n",
       "  <tbody>\n",
       "    <tr>\n",
       "      <th>0</th>\n",
       "      <td>0</td>\n",
       "      <td>lellahutanpage</td>\n",
       "      <td>අදින් විශ්‍රාම යන ජෙනරාල් ශවේන්ද්‍ර සිල්වා මහත...</td>\n",
       "      <td>0</td>\n",
       "      <td>True</td>\n",
       "    </tr>\n",
       "    <tr>\n",
       "      <th>1</th>\n",
       "      <td>1</td>\n",
       "      <td>lellahutanpage</td>\n",
       "      <td>😁😁</td>\n",
       "      <td>0</td>\n",
       "      <td>True</td>\n",
       "    </tr>\n",
       "    <tr>\n",
       "      <th>2</th>\n",
       "      <td>2</td>\n",
       "      <td>Gangsterrathne</td>\n",
       "      <td>අදින් විශ්‍රාම යන ජෙනරාල් ශවේන්ද්‍ර සිල්වා මහත...</td>\n",
       "      <td>0</td>\n",
       "      <td>True</td>\n",
       "    </tr>\n",
       "    <tr>\n",
       "      <th>3</th>\n",
       "      <td>3</td>\n",
       "      <td>Gangsterrathne</td>\n",
       "      <td>🥲\\n\\nThe Gemcity Journal\\nYesterday at 18:01 ·...</td>\n",
       "      <td>0</td>\n",
       "      <td>True</td>\n",
       "    </tr>\n",
       "    <tr>\n",
       "      <th>4</th>\n",
       "      <td>4</td>\n",
       "      <td>buwaSL</td>\n",
       "      <td>අද 🥰</td>\n",
       "      <td>0</td>\n",
       "      <td>True</td>\n",
       "    </tr>\n",
       "  </tbody>\n",
       "</table>\n",
       "</div>"
      ],
      "text/plain": [
       "   Unnamed: 0      Group Name  \\\n",
       "0           0  lellahutanpage   \n",
       "1           1  lellahutanpage   \n",
       "2           2  Gangsterrathne   \n",
       "3           3  Gangsterrathne   \n",
       "4           4          buwaSL   \n",
       "\n",
       "                                            Articles  HS Words  isTamil  \n",
       "0  අදින් විශ්‍රාම යන ජෙනරාල් ශවේන්ද්‍ර සිල්වා මහත...         0     True  \n",
       "1                                                 😁😁         0     True  \n",
       "2  අදින් විශ්‍රාම යන ජෙනරාල් ශවේන්ද්‍ර සිල්වා මහත...         0     True  \n",
       "3  🥲\\n\\nThe Gemcity Journal\\nYesterday at 18:01 ·...         0     True  \n",
       "4                                               අද 🥰         0     True  "
      ]
     },
     "execution_count": 18,
     "metadata": {},
     "output_type": "execute_result"
    }
   ],
   "source": [
    "df3.to_csv(\"final_data.csv\")"
   ]
  },
  {
   "cell_type": "code",
   "execution_count": null,
   "metadata": {},
   "outputs": [],
   "source": []
  }
 ],
 "metadata": {
  "interpreter": {
   "hash": "d090357a8a20fc1b45b6a2a35d6e7b1e058279542162814b391671ceb92f8a33"
  },
  "kernelspec": {
   "display_name": "Python 3.7.6 ('base')",
   "language": "python",
   "name": "python3"
  },
  "language_info": {
   "codemirror_mode": {
    "name": "ipython",
    "version": 3
   },
   "file_extension": ".py",
   "mimetype": "text/x-python",
   "name": "python",
   "nbconvert_exporter": "python",
   "pygments_lexer": "ipython3",
   "version": "3.7.6"
  },
  "orig_nbformat": 4
 },
 "nbformat": 4,
 "nbformat_minor": 2
}
